{
 "cells": [
  {
   "cell_type": "code",
   "execution_count": null,
   "metadata": {},
   "outputs": [],
   "source": [
    "using Revise\n",
    "using CMBLensing, CUDA, Distributions, LinearAlgebra, Plots, Setfield\n",
    "Plots.default(\n",
    "    lw=2, framestyle=:box, minorticks=false, color_palette=Plots.palette(:tab10),\n",
    "    size=(525,400), tickfontsize=12, label=\"\", msw=0\n",
    ")\n",
    "plotlyjs();"
   ]
  },
  {
   "cell_type": "markdown",
   "metadata": {},
   "source": [
    "# Model -> MUSE"
   ]
  },
  {
   "cell_type": "code",
   "execution_count": 2,
   "metadata": {},
   "outputs": [],
   "source": [
    "proj = ProjLambert(Ny=1024, Nx=2048, θpix=2.25, T=Float32, storage=CuArray);"
   ]
  },
  {
   "cell_type": "code",
   "execution_count": 3,
   "metadata": {},
   "outputs": [],
   "source": [
    "Cℓ = camb(r=0.1);"
   ]
  },
  {
   "cell_type": "code",
   "execution_count": 4,
   "metadata": {},
   "outputs": [],
   "source": [
    "Cϕ = Cℓ_to_Cov(:I, proj, Cℓ.total.ϕϕ);"
   ]
  },
  {
   "cell_type": "code",
   "execution_count": 5,
   "metadata": {},
   "outputs": [],
   "source": [
    "Cf = Cℓ_to_Cov(:P, proj, Cℓ.unlensed_total.EE, Cℓ.unlensed_total.BB);"
   ]
  },
  {
   "cell_type": "code",
   "execution_count": 6,
   "metadata": {},
   "outputs": [],
   "source": [
    "Cn = Cℓ_to_Cov(:P, proj, noiseCℓs(μKarcminT=4.5, ℓknee=0).TT, noiseCℓs(μKarcminT=4.5, ℓknee=0).TT);"
   ]
  },
  {
   "cell_type": "code",
   "execution_count": 7,
   "metadata": {},
   "outputs": [],
   "source": [
    "ϕ = simulate(Cϕ);"
   ]
  },
  {
   "cell_type": "code",
   "execution_count": 8,
   "metadata": {},
   "outputs": [],
   "source": [
    "f = simulate(Cf);"
   ]
  },
  {
   "cell_type": "code",
   "execution_count": 9,
   "metadata": {},
   "outputs": [],
   "source": [
    "n = simulate(Cn);"
   ]
  },
  {
   "cell_type": "code",
   "execution_count": 10,
   "metadata": {},
   "outputs": [],
   "source": [
    "plot_zoom((LenseFlow(ϕ) * f + n)[:E]);"
   ]
  },
  {
   "cell_type": "code",
   "execution_count": null,
   "metadata": {},
   "outputs": [],
   "source": [
    "@kwdef mutable struct MyDataset4 <: DataSet\n",
    "    d\n",
    "    Cf\n",
    "    Cϕ\n",
    "    Cn\n",
    "    M = MidPass(300,4000)\n",
    "\n",
    "    # boilerplate: \n",
    "    L = LenseFlow(7)\n",
    "    Cf̃ = Cf\n",
    "    Cn̂ = Cn\n",
    "    G = I\n",
    "    B̂ = I\n",
    "    M̂ = I\n",
    "    D = sqrt((Cf + (I*Float32(deg2rad(5/60)^2) + 2*Cn)) * pinv(Cf))\n",
    "end"
   ]
  },
  {
   "cell_type": "code",
   "execution_count": null,
   "metadata": {},
   "outputs": [],
   "source": [
    "quadratic_estimate(ds)"
   ]
  },
  {
   "cell_type": "code",
   "execution_count": 12,
   "metadata": {},
   "outputs": [],
   "source": [
    "@fwdmodel function (ds::MyDataset5)(; f, ϕ, θ=nothing, d=ds.d)\n",
    "    f ~ MvNormal(0, ds.Cf)\n",
    "    ϕ ~ MvNormal(0, ds.Cϕ)\n",
    "    f_rot = FlatEBMap(\n",
    "         f[:E] * cos(2θ) + f[:B] * sin(2θ),\n",
    "        -f[:E] * sin(2θ) + f[:B] * cos(2θ)\n",
    "    )\n",
    "    d ~ MvNormal(ds.M * (LenseFlow(ϕ) * f_rot), ds.Cn)\n",
    "end\n",
    "\n",
    "CMBLensing.logprior(ds::MyDataset5; _...) = 0"
   ]
  },
  {
   "cell_type": "code",
   "execution_count": 78,
   "metadata": {},
   "outputs": [],
   "source": [
    "@fwdmodel function (ds::MyDataset4)(; f, ϕ, θ=nothing, d=ds.d)\n",
    "    (;Cf, Cϕ, Cn, M, L) = ds\n",
    "    f ~ MvNormal(0, Cf)\n",
    "    ϕ ~ MvNormal(0, Cϕ)\n",
    "    d ~ MvNormal(M * (L(ϕ) * f), Cn)\n",
    "end\n",
    "\n",
    "CMBLensing.logprior(ds::MyDataset3; _...) = 0"
   ]
  },
  {
   "cell_type": "code",
   "execution_count": 79,
   "metadata": {},
   "outputs": [],
   "source": [
    "ds = MyDataset4(;d=nothing, Cf, Cϕ, Cn);"
   ]
  },
  {
   "cell_type": "markdown",
   "metadata": {},
   "source": [
    "# mMAP vs jMAP"
   ]
  },
  {
   "cell_type": "code",
   "execution_count": 34,
   "metadata": {},
   "outputs": [],
   "source": [
    "(;ds) = load_sim(\n",
    "    θpix      = 2.25,\n",
    "    Nside     = 512,\n",
    "    pol       = :P,\n",
    "    T         = Float32, \n",
    "    storage   = CuArray,\n",
    "    beamFWHM  = 1.5,\n",
    "    μKarcminT = 3,\n",
    "    pixel_mask_kwargs = (edge_padding_deg=1.5, edge_rounding_deg=0.5, apodization_deg=0.5, num_ptsrcs=0)\n",
    ");"
   ]
  },
  {
   "cell_type": "code",
   "execution_count": null,
   "metadata": {},
   "outputs": [],
   "source": [
    "plot(diag(ds.M[2])[:Q])"
   ]
  },
  {
   "cell_type": "code",
   "execution_count": 36,
   "metadata": {},
   "outputs": [],
   "source": [
    "(;d, f, ϕ) = simulate(ds);\n",
    "ds.d = d;"
   ]
  },
  {
   "cell_type": "code",
   "execution_count": null,
   "metadata": {},
   "outputs": [],
   "source": [
    "jMAP = @time MAP_joint(ds, nsteps=30, progress=false);"
   ]
  },
  {
   "cell_type": "code",
   "execution_count": null,
   "metadata": {},
   "outputs": [],
   "source": [
    "plot(first.(jMAP.history))"
   ]
  },
  {
   "cell_type": "code",
   "execution_count": null,
   "metadata": {},
   "outputs": [],
   "source": [
    "mMAP = @time MAP_marg(ds, nsteps_with_meanfield_update=30, Nsims=30, nsteps=30, α=0.5, progress=false);"
   ]
  },
  {
   "cell_type": "code",
   "execution_count": null,
   "metadata": {},
   "outputs": [],
   "source": [
    "mffmMAP = @time MAP_marg(ds, nsteps_with_meanfield_update=0, Nsims=0, nsteps=30, α=0.5, progress=false);"
   ]
  },
  {
   "cell_type": "code",
   "execution_count": null,
   "metadata": {},
   "outputs": [],
   "source": [
    "plot(get_Cℓ(∇²*ϕ), label=\"true\")\n",
    "plot!(get_Cℓ(∇²*jMAP.ϕ), label=\"jMAP\")\n",
    "plot!(get_Cℓ(∇²*mMAP.ϕ), label=\"mMAP\")\n",
    "plot!(get_Cℓ(∇²*mffmMAP.ϕ), label=\"mffmMAP\")\n",
    "plot!(yscale=:log10, ylim=(1e-10,1e-5), xlim=(0,2000))"
   ]
  },
  {
   "cell_type": "code",
   "execution_count": null,
   "metadata": {},
   "outputs": [],
   "source": [
    "plot(get_ρℓ(∇²*ϕ,∇²*jMAP.ϕ,), label=\"true x jMAP\")\n",
    "plot!(get_ρℓ(∇²*ϕ,∇²*mMAP.ϕ), label=\"true x mMAP\")\n",
    "plot!(get_ρℓ(∇²*jMAP.ϕ,∇²*mMAP.ϕ), label=\"mMAP x jMAP\")\n",
    "plot!(get_ρℓ(∇²*jMAP.ϕ,∇²*mffmMAP.ϕ), label=\"mffmMAP x jMAP\")\n",
    "plot!(ticks=:native)"
   ]
  },
  {
   "cell_type": "code",
   "execution_count": null,
   "metadata": {},
   "outputs": [],
   "source": [
    "plot(\n",
    "    plot(∇² * jMAP.ϕ, title = \"jMAP\"),\n",
    "    plot(∇² * mffmMAP.ϕ, title = \"mffmMAP\"),\n",
    "    plot(∇² * mMAP.ϕ, title = \"mMAP\"),\n",
    "    layout = (1, 3), size = (900,300), cbar = false\n",
    ")"
   ]
  },
  {
   "cell_type": "markdown",
   "metadata": {},
   "source": [
    "# Lenspyx AD"
   ]
  },
  {
   "cell_type": "markdown",
   "metadata": {},
   "source": []
  }
 ],
 "metadata": {
  "kernelspec": {
   "display_name": "Julia 1.9.4",
   "language": "julia",
   "name": "julia-1.9"
  },
  "language_info": {
   "file_extension": ".jl",
   "mimetype": "application/julia",
   "name": "julia",
   "version": "1.9.4"
  }
 },
 "nbformat": 4,
 "nbformat_minor": 2
}
